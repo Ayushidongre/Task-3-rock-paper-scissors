{
  "nbformat": 4,
  "nbformat_minor": 0,
  "metadata": {
    "colab": {
      "provenance": [],
      "authorship_tag": "ABX9TyOnMRhqYepUN/MljXd6NNnU",
      "include_colab_link": true
    },
    "kernelspec": {
      "name": "python3",
      "display_name": "Python 3"
    },
    "language_info": {
      "name": "python"
    }
  },
  "cells": [
    {
      "cell_type": "markdown",
      "metadata": {
        "id": "view-in-github",
        "colab_type": "text"
      },
      "source": [
        "<a href=\"https://colab.research.google.com/github/Ayushidongre/Task-3-rock-paper-scissors/blob/main/Task_3_rock_%2C_paper_%2Cscissors.ipynb\" target=\"_parent\"><img src=\"https://colab.research.google.com/assets/colab-badge.svg\" alt=\"Open In Colab\"/></a>"
      ]
    },
    {
      "cell_type": "code",
      "execution_count": null,
      "metadata": {
        "colab": {
          "base_uri": "https://localhost:8080/"
        },
        "id": "qo0f2JdK-2pH",
        "outputId": "cb17786b-0767-41db-b7a3-a532c87e600e"
      },
      "outputs": [
        {
          "output_type": "stream",
          "name": "stdout",
          "text": [
            "Welcome to Rock, Paper, Scissors!\n",
            "Enter your choice (Rock, Paper, or Scissors): Scissors\n",
            "You chose Scissors.\n",
            "Computer chose Rock.\n",
            "Computer wins!\n"
          ]
        }
      ],
      "source": [
        "import random\n",
        "\n",
        "def get_user_choice():\n",
        "    user_choice = input(\"Enter your choice (Rock, Paper, or Scissors): \").capitalize()\n",
        "    while user_choice not in [\"Rock\", \"Paper\", \"Scissors\"]:\n",
        "        print(\"Invalid choice. Please enter Rock, Paper, or Scissors.\")\n",
        "        user_choice = input(\"Enter your choice (Rock, Paper, or Scissors): \").capitalize()\n",
        "    return user_choice\n",
        "\n",
        "def get_computer_choice():\n",
        "    return random.choice([\"Rock\", \"Paper\", \"Scissors\"])\n",
        "\n",
        "def determine_winner(user_choice, computer_choice):\n",
        "    if user_choice == computer_choice:\n",
        "        return \"It's a tie!\"\n",
        "    elif (user_choice == \"Rock\" and computer_choice == \"Scissors\") or \\\n",
        "         (user_choice == \"Paper\" and computer_choice == \"Rock\") or \\\n",
        "         (user_choice == \"Scissors\" and computer_choice == \"Paper\"):\n",
        "        return \"You win!\"\n",
        "    else:\n",
        "        return \"Computer wins!\"\n",
        "\n",
        "def play_game():\n",
        "    print(\"Welcome to Rock, Paper, Scissors!\")\n",
        "\n",
        "    user_choice = get_user_choice()\n",
        "    computer_choice = get_computer_choice()\n",
        "\n",
        "    print(f\"You chose {user_choice}.\")\n",
        "    print(f\"Computer chose {computer_choice}.\")\n",
        "\n",
        "    result = determine_winner(user_choice, computer_choice)\n",
        "    print(result)\n",
        "\n",
        "if __name__ == \"__main__\":\n",
        "    play_game()\n"
      ]
    },
    {
      "cell_type": "code",
      "source": [],
      "metadata": {
        "id": "wlTSLiRqAzsV"
      },
      "execution_count": null,
      "outputs": []
    }
  ]
}